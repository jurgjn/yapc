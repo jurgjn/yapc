{
  "cells": [
    {
      "cell_type": "code",
      "source": [
        "import urllib\n",
        "import pandas as pd"
      ],
      "outputs": [],
      "execution_count": 1,
      "metadata": {
        "collapsed": false,
        "jupyter": {
          "source_hidden": false,
          "outputs_hidden": false
        },
        "nteract": {
          "transient": {
            "deleting": false
          }
        }
      }
    },
    {
      "cell_type": "code",
      "source": [
        "# Select DNase samples from metadata downloaded from:\n",
        "# https://egg2.wustl.edu/roadmap/web_portal/meta.html\n",
        "# https://docs.google.com/spreadsheets/d/1yikGx4MsO9Ei36b64yOy9Vb6oPC5IBGlFbYEt-N6gOM/edit#gid=15\n",
        "df_ = pd.read_csv('Roadmap.metadata.qc.jul2013 - Consolidated_EpigenomeIDs_summary_Table.tsv', sep='\\t', header=[0,1,2]).iloc[:, [1, 15, 35]]\n",
        "df_.columns = ['EID', 'Epigenome_name', 'DNase_file']\n",
        "df_ = df_.query('DNase_file == DNase_file').sort_values(['EID']).reset_index(drop=True)\n",
        "\n",
        "# Drop ENCODE samples, confirm that we're left with \"39 Roadmap reference epigenomes with DNase data\":\n",
        "# https://egg2.wustl.edu/roadmap/web_portal/DNase_reg.html#delieation\n",
        "df_['is_encode'] = df_['DNase_file'].str.startswith('wgEncode')\n",
        "#df_['is_encode'].value_counts()\n",
        "df_ = df_.query('~is_encode').drop('is_encode', axis=1)\n",
        "assert len(df_) == 39, f'Expected to see 39 epigenomes, found {len(df_)} instead'\n",
        "print('Expected 39 epigenomes with DNase left after removing ENCODE samples')\n",
        "\n",
        "# Transform from one row per epigenome to one row per replicate; guess pval file name\n",
        "df_ = df_.assign(DNase_file=df_.DNase_file.str.split(';')).explode('DNase_file')\n",
        "df_['DNase_file'] = df_['DNase_file'].str.rstrip('.filt.*') + '.pval.signal.bigwig'\n",
        "df_.reset_index(drop=True, inplace=True)\n",
        "print(f'Reference epigenomes split into {len(df_)} individual replicates')\n",
        "df_.head()"
      ],
      "outputs": [
        {
          "output_type": "stream",
          "name": "stdout",
          "text": [
            "Expected 39 epigenomes with DNase left after removing ENCODE samples\n",
            "Reference epigenomes split into 104 individual replicates\n"
          ]
        },
        {
          "output_type": "execute_result",
          "execution_count": 3,
          "data": {
            "text/plain": [
              "    EID                              Epigenome_name  \\\n",
              "0  E003                                H1_Cell_Line   \n",
              "1  E003                                H1_Cell_Line   \n",
              "2  E004  H1_BMP4_Derived_Mesendoderm_Cultured_Cells   \n",
              "3  E004  H1_BMP4_Derived_Mesendoderm_Cultured_Cells   \n",
              "4  E005  H1_BMP4_Derived_Trophoblast_Cultured_Cells   \n",
              "\n",
              "                                          DNase_file  \n",
              "0  UW.H1.ChromatinAccessibility.DS19100.pval.sign...  \n",
              "1  UW.H1.ChromatinAccessibility.DS18873.pval.sign...  \n",
              "2  UW.H1_BMP4_Derived_Mesendoderm_Cultured_Cells....  \n",
              "3  UW.H1_BMP4_Derived_Mesendoderm_Cultured_Cells....  \n",
              "4  UW.H1_BMP4_Derived_Trophoblast_Cultured_Cells....  "
            ],
            "text/html": [
              "<div>\n",
              "<style scoped>\n",
              "    .dataframe tbody tr th:only-of-type {\n",
              "        vertical-align: middle;\n",
              "    }\n",
              "\n",
              "    .dataframe tbody tr th {\n",
              "        vertical-align: top;\n",
              "    }\n",
              "\n",
              "    .dataframe thead th {\n",
              "        text-align: right;\n",
              "    }\n",
              "</style>\n",
              "<table border=\"1\" class=\"dataframe\">\n",
              "  <thead>\n",
              "    <tr style=\"text-align: right;\">\n",
              "      <th></th>\n",
              "      <th>EID</th>\n",
              "      <th>Epigenome_name</th>\n",
              "      <th>DNase_file</th>\n",
              "    </tr>\n",
              "  </thead>\n",
              "  <tbody>\n",
              "    <tr>\n",
              "      <th>0</th>\n",
              "      <td>E003</td>\n",
              "      <td>H1_Cell_Line</td>\n",
              "      <td>UW.H1.ChromatinAccessibility.DS19100.pval.sign...</td>\n",
              "    </tr>\n",
              "    <tr>\n",
              "      <th>1</th>\n",
              "      <td>E003</td>\n",
              "      <td>H1_Cell_Line</td>\n",
              "      <td>UW.H1.ChromatinAccessibility.DS18873.pval.sign...</td>\n",
              "    </tr>\n",
              "    <tr>\n",
              "      <th>2</th>\n",
              "      <td>E004</td>\n",
              "      <td>H1_BMP4_Derived_Mesendoderm_Cultured_Cells</td>\n",
              "      <td>UW.H1_BMP4_Derived_Mesendoderm_Cultured_Cells....</td>\n",
              "    </tr>\n",
              "    <tr>\n",
              "      <th>3</th>\n",
              "      <td>E004</td>\n",
              "      <td>H1_BMP4_Derived_Mesendoderm_Cultured_Cells</td>\n",
              "      <td>UW.H1_BMP4_Derived_Mesendoderm_Cultured_Cells....</td>\n",
              "    </tr>\n",
              "    <tr>\n",
              "      <th>4</th>\n",
              "      <td>E005</td>\n",
              "      <td>H1_BMP4_Derived_Trophoblast_Cultured_Cells</td>\n",
              "      <td>UW.H1_BMP4_Derived_Trophoblast_Cultured_Cells....</td>\n",
              "    </tr>\n",
              "  </tbody>\n",
              "</table>\n",
              "</div>"
            ]
          },
          "metadata": {}
        }
      ],
      "execution_count": 3,
      "metadata": {
        "collapsed": false,
        "jupyter": {
          "source_hidden": false,
          "outputs_hidden": false
        },
        "nteract": {
          "transient": {
            "deleting": false
          }
        }
      }
    },
    {
      "cell_type": "code",
      "source": [
        "# DSXXXXXX seems identify libraries, e.g. lihttps://www.ncbi.nlm.nih.gov/geo/query/acc.cgi?acc=GSM665840\n",
        "df_['library_name'] = df_['DNase_file'].map(lambda fp_: next(tok_ for tok_ in fp_.split('.') if tok_.startswith('DS')))"
      ],
      "outputs": [],
      "execution_count": 4,
      "metadata": {
        "collapsed": false,
        "jupyter": {
          "source_hidden": false,
          "outputs_hidden": false
        },
        "nteract": {
          "transient": {
            "deleting": false
          }
        }
      }
    },
    {
      "cell_type": "code",
      "source": [
        "# Check that pval signal files exist on the server\n",
        "def check_pval_url_(fp_):\n",
        "    url_ = f'https://egg2.wustl.edu/roadmap/data/byFileType/signal/unconsolidated/pval/{fp_}'\n",
        "    try:\n",
        "        with urllib.request.urlopen(url_) as response:\n",
        "            return True\n",
        "    except HTTPError:\n",
        "        return False\n",
        "\n",
        "#assert all(df_['DNase_file'].map(check_pval_url_)), 'Some file names in column `DNase_file` do not exist on egg2.wustl.edu'\n",
        "#print('All file names in column `DNase_file` exist on egg2.wustl.edu')"
      ],
      "outputs": [],
      "execution_count": 5,
      "metadata": {
        "collapsed": false,
        "jupyter": {
          "source_hidden": false,
          "outputs_hidden": false
        },
        "nteract": {
          "transient": {
            "deleting": false
          }
        }
      }
    },
    {
      "cell_type": "code",
      "source": [
        "# Look at number of replicates per epigenome\n",
        "df_['n_replicates'] = df_.groupby('EID')['DNase_file'].transform(len)\n",
        "vc_ = df_[['EID', 'n_replicates']].drop_duplicates()['n_replicates'].value_counts().sort_index()\n",
        "assert sum(vc_.values) == 39\n",
        "vc_"
      ],
      "outputs": [
        {
          "output_type": "execute_result",
          "execution_count": 6,
          "data": {
            "text/plain": [
              "1     13\n",
              "2     17\n",
              "3      2\n",
              "4      2\n",
              "5      2\n",
              "10     1\n",
              "11     1\n",
              "12     1\n",
              "Name: n_replicates, dtype: int64"
            ]
          },
          "metadata": {}
        }
      ],
      "execution_count": 6,
      "metadata": {
        "collapsed": false,
        "jupyter": {
          "source_hidden": false,
          "outputs_hidden": false
        },
        "nteract": {
          "transient": {
            "deleting": false
          }
        }
      }
    },
    {
      "cell_type": "code",
      "source": [
        "# Write a sample sheet of epigenomes with two replicates\n",
        "df_ = df_.query('n_replicates == 2').reset_index(drop=True)[['EID', 'Epigenome_name', 'library_name', 'DNase_file']]\\\n",
        "    .assign(DNase_file=lambda r_: \"pval/\" + r_.DNase_file)\n",
        "df_.to_csv('sample_sheet.tsv', sep='\\t', index=False, header=True)\n",
        "!wc -l sample_sheet.tsv"
      ],
      "outputs": [
        {
          "output_type": "stream",
          "name": "stdout",
          "text": [
            "      35 sample_sheet.tsv\r\n"
          ]
        }
      ],
      "execution_count": 8,
      "metadata": {
        "collapsed": false,
        "jupyter": {
          "source_hidden": false,
          "outputs_hidden": false
        },
        "nteract": {
          "transient": {
            "deleting": false
          }
        }
      }
    },
    {
      "cell_type": "code",
      "source": [
        "!mkdir -p pval\n",
        "for fp_ in df_['DNase_file'].values:\n",
        "    !wget -nc -O pval/{fp_} https://egg2.wustl.edu/roadmap/data/byFileType/signal/unconsolidated/pval/{fp_}"
      ],
      "outputs": [
        {
          "output_type": "stream",
          "name": "stdout",
          "text": [
            "pval/pval/UW.H1.ChromatinAccessibility.DS19100.pval.signal.bigwig: No such file or directory\n",
            "pval/pval/UW.H1.ChromatinAccessibility.DS18873.pval.signal.bigwig: No such file or directory\n",
            "pval/pval/UW.H1_BMP4_Derived_Mesendoderm_Cultured_Cells.ChromatinAccessibility.DS19310.pval.signal.bigwig: No such file or directory\n",
            "pval/pval/UW.H1_BMP4_Derived_Mesendoderm_Cultured_Cells.ChromatinAccessibility.DS18732.pval.signal.bigwig: No such file or directory\n",
            "pval/pval/UW.H1_BMP4_Derived_Trophoblast_Cultured_Cells.ChromatinAccessibility.DS19317.pval.signal.bigwig: No such file or directory\n",
            "pval/pval/UW.H1_BMP4_Derived_Trophoblast_Cultured_Cells.ChromatinAccessibility.DS18736.pval.signal.bigwig: No such file or directory\n",
            "pval/pval/UW.H1_Derived_Mesenchymal_Stem_Cells.ChromatinAccessibility.DS20671.pval.signal.bigwig: No such file or directory\n",
            "pval/pval/UW.H1_Derived_Mesenchymal_Stem_Cells.ChromatinAccessibility.DS21042.pval.signal.bigwig: No such file or directory\n",
            "pval/pval/UW.H1_Derived_Neuronal_Progenitor_Cultured_Cells.ChromatinAccessibility.DS20153.pval.signal.bigwig: No such file or directory\n",
            "pval/pval/UW.H1_Derived_Neuronal_Progenitor_Cultured_Cells.ChromatinAccessibility.DS18739.pval.signal.bigwig: No such file or directory\n",
            "pval/pval/UW.H9.ChromatinAccessibility.DS18522.pval.signal.bigwig: No such file or directory\n",
            "pval/pval/UW.H9.ChromatinAccessibility.DS18517.pval.signal.bigwig: No such file or directory\n",
            "pval/pval/UW.Breast_vHMEC.ChromatinAccessibility.RM035.DS18406.pval.signal.bigwig: No such file or directory\n",
            "pval/pval/UW.Breast_vHMEC.ChromatinAccessibility.RM035.DS18438.pval.signal.bigwig: No such file or directory\n",
            "pval/pval/UW.CD14_Primary_Cells.ChromatinAccessibility.RO_01689.DS17391.pval.signal.bigwig: No such file or directory\n",
            "pval/pval/UW.CD14_Primary_Cells.ChromatinAccessibility.RO_01701.DS17889.pval.signal.bigwig: No such file or directory\n",
            "pval/pval/UW.CD19_Primary_Cells.ChromatinAccessibility.RO_01701.DS17440.pval.signal.bigwig: No such file or directory\n",
            "pval/pval/UW.CD19_Primary_Cells.ChromatinAccessibility.RO_01679.DS17186.pval.signal.bigwig: No such file or directory\n",
            "pval/pval/UW.CD3_Primary_Cells.ChromatinAccessibility.CB6_1-4-2011.DS17706.pval.signal.bigwig: No such file or directory\n",
            "pval/pval/UW.CD3_Primary_Cells.ChromatinAccessibility.CB1_1-3-2011.DS17702.pval.signal.bigwig: No such file or directory\n",
            "pval/pval/UW.CD3_Primary_Cells.ChromatinAccessibility.RO_01679.DS17198.pval.signal.bigwig: No such file or directory\n",
            "pval/pval/UW.CD3_Primary_Cells.ChromatinAccessibility.RO_01701.DS17534.pval.signal.bigwig: No such file or directory\n",
            "pval/pval/UW.CD56_Primary_Cells.ChromatinAccessibility.RO_01701.DS17443.pval.signal.bigwig: No such file or directory\n",
            "pval/pval/UW.CD56_Primary_Cells.ChromatinAccessibility.RO_01679.DS17189.pval.signal.bigwig: No such file or directory\n",
            "pval/pval/UW.Penis_Foreskin_Fibroblast_Primary_Cells.ChromatinAccessibility.skin01.DS18229.pval.signal.bigwig: No such file or directory\n",
            "pval/pval/UW.Penis_Foreskin_Fibroblast_Primary_Cells.ChromatinAccessibility.skin01.DS18224.pval.signal.bigwig: No such file or directory\n",
            "pval/pval/UW.Penis_Foreskin_Fibroblast_Primary_Cells.ChromatinAccessibility.skin02.DS18256.pval.signal.bigwig: No such file or directory\n",
            "pval/pval/UW.Penis_Foreskin_Fibroblast_Primary_Cells.ChromatinAccessibility.skin02.DS18252.pval.signal.bigwig: No such file or directory\n",
            "pval/pval/UW.Penis_Foreskin_Keratinocyte_Primary_Cells.ChromatinAccessibility.skin02.DS18718.pval.signal.bigwig: No such file or directory\n",
            "pval/pval/UW.Penis_Foreskin_Keratinocyte_Primary_Cells.ChromatinAccessibility.skin02.DS18714.pval.signal.bigwig: No such file or directory\n",
            "pval/pval/UW.Penis_Foreskin_Melanocyte_Primary_Cells.ChromatinAccessibility.skin01.DS18601.pval.signal.bigwig: No such file or directory\n",
            "pval/pval/UW.Penis_Foreskin_Melanocyte_Primary_Cells.ChromatinAccessibility.skin01.DS18590.pval.signal.bigwig: No such file or directory\n",
            "pval/pval/UW.Fetal_Brain.ChromatinAccessibility.H-22510.DS11872.pval.signal.bigwig: No such file or directory\n",
            "pval/pval/UW.Fetal_Brain.ChromatinAccessibility.H-22510.DS11877.pval.signal.bigwig: No such file or directory\n"
          ]
        }
      ],
      "execution_count": 9,
      "metadata": {
        "collapsed": false,
        "jupyter": {
          "source_hidden": false,
          "outputs_hidden": false
        },
        "nteract": {
          "transient": {
            "deleting": false
          }
        }
      }
    }
  ],
  "metadata": {
    "kernel_info": {
      "name": "python3"
    },
    "language_info": {
      "name": "python",
      "version": "3.7.6",
      "mimetype": "text/x-python",
      "codemirror_mode": {
        "name": "ipython",
        "version": 3
      },
      "pygments_lexer": "ipython3",
      "nbconvert_exporter": "python",
      "file_extension": ".py"
    },
    "kernelspec": {
      "argv": [
        "/Users/jj374/anaconda3/bin/python",
        "-m",
        "ipykernel_launcher",
        "-f",
        "{connection_file}"
      ],
      "display_name": "Python 3",
      "language": "python",
      "name": "python3"
    },
    "nteract": {
      "version": "0.21.0"
    }
  },
  "nbformat": 4,
  "nbformat_minor": 0
}